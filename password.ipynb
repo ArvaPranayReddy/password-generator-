{
 "cells": [
  {
   "cell_type": "code",
   "execution_count": 14,
   "id": "c07c447e-dcac-4c98-8d6a-1e34a395d51b",
   "metadata": {},
   "outputs": [
    {
     "name": "stdin",
     "output_type": "stream",
     "text": [
      "enter the length of password you need  25\n"
     ]
    },
    {
     "name": "stdout",
     "output_type": "stream",
     "text": [
      "your password: 2VHOS10@EIC8PL3!Z4T67N9Y$\n"
     ]
    }
   ],
   "source": [
    "import random\n",
    "password=\"ABCDEFGHIJKLMNOPQRSTUVWXYZ1234567890@#$!\"\n",
    "length_password = int(input(\"enter the length of password you need \"))\n",
    "a=\"\".join(random.sample(password,length_password))\n",
    "print(f\"your password: {a}\")"
   ]
  },
  {
   "cell_type": "code",
   "execution_count": null,
   "id": "ad8a417d-d6ed-4590-abc0-fbeb2ee8ed88",
   "metadata": {},
   "outputs": [],
   "source": []
  }
 ],
 "metadata": {
  "kernelspec": {
   "display_name": "Python 3 (ipykernel)",
   "language": "python",
   "name": "python3"
  },
  "language_info": {
   "codemirror_mode": {
    "name": "ipython",
    "version": 3
   },
   "file_extension": ".py",
   "mimetype": "text/x-python",
   "name": "python",
   "nbconvert_exporter": "python",
   "pygments_lexer": "ipython3",
   "version": "3.12.4"
  }
 },
 "nbformat": 4,
 "nbformat_minor": 5
}
